{
 "cells": [
  {
   "cell_type": "markdown",
   "metadata": {},
   "source": [
    "# Neural Ordinary Differential Equations"
   ]
  },
  {
   "cell_type": "markdown",
   "metadata": {},
   "source": [
    "## Two different ways to model things\n",
    "\n",
    "When considering a problem of process modeling we - usually - have set of N data points pairs ${(x_n, y_n)}; 1 \\le n \\le N$. This dataset comes from observing some process out in the wild. What we would like to do is to build mapping $f$ that will approximate the very process we observed. \n",
    "\n",
    "We will compare two approaches - quite popular **regresion** and topic of this presentation **ordinary differential equations**.\n",
    "\n",
    "### Regression\n",
    "\n",
    "We can write regression in general from as:\n",
    "$$Y = f(X, \\beta) + \\epsilon$$\n",
    "\n",
    "Of course $f$ can take various form - from simple matrix multiplication to extremally complex like complicated neural nets. What is most important is fact that we describe the relationship _directly_. \n",
    "\n",
    "\n",
    "### Ordinary Differential Equations\n",
    "#### Modeling change"
   ]
  },
  {
   "cell_type": "markdown",
   "metadata": {},
   "source": [
    "### ODE Refresher\n",
    "#### What are ODEs?\n",
    "#### Initial value problem in ODEs\n",
    "##### Sample Problem\n",
    "##### Implementing tool that will solve this problem"
   ]
  },
  {
   "cell_type": "markdown",
   "metadata": {},
   "source": [
    "## ResNet and Euler's Method\n",
    "\n",
    "### What is ResNet?\n",
    "\n",
    "### Residual Block\n",
    "\n",
    "#### Simple implementation of residual block\n",
    "\n",
    "#### ResNet as Euler Discretization\n",
    "\n",
    "#### Making Discretization continous\n",
    "\n",
    "##### Forward pass "
   ]
  },
  {
   "cell_type": "markdown",
   "metadata": {},
   "source": [
    "## Backpropagation\n",
    "\n",
    "### Naive Approach\n",
    "\n",
    "### Adjoint Sensitivity Method\n",
    "\n",
    "#### Sample Problem\n",
    "\n",
    "#### Final backrpop algorithm"
   ]
  },
  {
   "cell_type": "markdown",
   "metadata": {},
   "source": [
    "## Neural ODE - summary"
   ]
  },
  {
   "cell_type": "markdown",
   "metadata": {},
   "source": [
    "## Simple problem - CIFAR"
   ]
  },
  {
   "cell_type": "markdown",
   "metadata": {},
   "source": [
    "### More advanced problems"
   ]
  },
  {
   "cell_type": "markdown",
   "metadata": {},
   "source": [
    "Sources:\n",
    " - https://github.com/kmkolasinski/deep-learning-notes/tree/master/seminars/2019-03-Neural-Ordinary-Differential-Equations\n",
    " - https://jontysinai.github.io/jekyll/update/2019/01/18/understanding-neural-odes.html\n",
    " - https://arxiv.org/abs/1806.07366\n",
    " - https://pl.wikipedia.org/wiki/Regresja_(statystyka)\n",
    " - Reprezentacja stanu sieci neuronowych przy pomocy zwyczajnych równań różniczkowych - Piotr Lewandowski"
   ]
  }
 ],
 "metadata": {
  "kernelspec": {
   "display_name": "Python 3",
   "language": "python",
   "name": "python3"
  },
  "language_info": {
   "codemirror_mode": {
    "name": "ipython",
    "version": 3
   },
   "file_extension": ".py",
   "mimetype": "text/x-python",
   "name": "python",
   "nbconvert_exporter": "python",
   "pygments_lexer": "ipython3",
   "version": "3.7.3"
  }
 },
 "nbformat": 4,
 "nbformat_minor": 2
}
